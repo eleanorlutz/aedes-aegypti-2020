{
 "cells": [
  {
   "cell_type": "markdown",
   "metadata": {},
   "source": [
    "### Convert hdf5 to CSV \n",
    "#### Implementation notes\n",
    "- Code must be run in Python 2\n",
    "- If there are issues running MultiTracker check to see if it is in conflict with OpenCV2. If so, edit your `.bashrc` file to change the PATH to ros while running this script only. Make sure to run `source ~/.bashrc` to update your changes. \n",
    "\n",
    "#### List of tasks accomplished in this Jupyter Notebook:\n",
    "- Translate Multitracker hdf5 files into Pandas dataframes and save to CSV\n",
    "- Find videos with quiescent animals at beginning of video\n",
    "- Manually correct videos with quiescent animals at beginning of video"
   ]
  },
  {
   "cell_type": "code",
   "execution_count": 1,
   "metadata": {},
   "outputs": [
    {
     "name": "stdout",
     "output_type": "stream",
     "text": [
      "1.5.1\n",
      "recommended version: 1.1.1 or greater\n"
     ]
    }
   ],
   "source": [
    "import numpy as np\n",
    "import pandas as pd\n",
    "import glob, math, os\n",
    "from moviepy.editor import *\n",
    "import multi_tracker_analysis as mta\n",
    "from __future__ import division"
   ]
  },
  {
   "cell_type": "code",
   "execution_count": 2,
   "metadata": {
    "scrolled": false
   },
   "outputs": [
    {
     "name": "stdout",
     "output_type": "stream",
     "text": [
      "--- All files converted ---\n"
     ]
    }
   ],
   "source": [
    "df = pd.read_csv(\"./data/experiment_IDs/cleaned_static_data.csv\")\n",
    "df = df[df['dead'] != 'yes']\n",
    "# display(df.sample(10))\n",
    "animals = df[\"animal_ID\"].values\n",
    "# display(animals[-5:])\n",
    "\n",
    "for animal in animals: \n",
    "    pos = animal[10:]\n",
    "    animal = animal[:9]\n",
    "    filen = \"/home/eleanor/Documents/analysis_files_reviewed/\" + animal \n",
    "    video = \"/home/eleanor/Documents/videos_test_finished/\" + animal\n",
    "    save = \"./data/trajectories/video_csvs/\" + animal\n",
    "    \n",
    "    for val in [\"A\", \"E\"]:\n",
    "        filename = filen + \"-\" + val + '-' + pos + \"/data/\"\n",
    "        videoname = video + \"-\" + val + '-' + pos + \".avi\"\n",
    "        savename = save + \"-\" + val + '-' + pos + \".csv\"\n",
    "\n",
    "        try:\n",
    "            # Do not overwrite video files that have already been made\n",
    "            if (not os.path.isfile(savename)) and (os.path.isfile(videoname)) and \\\n",
    "                (os.path.isdir(filename)):\n",
    "                df, config = mta.read_hdf5_file_to_pandas.load_and_preprocess_data(filename)\n",
    "                video_clip = VideoFileClip(videoname)\n",
    "                frame = np.array(video_clip.get_frame(0).astype(float))\n",
    "                video_width, video_height = len(frame[0]), len(frame)\n",
    "\n",
    "                df[\"pixel_width\"] = video_width\n",
    "                df[\"pixel_height\"] = video_height\n",
    "\n",
    "                # Mark frames detected by Multitracker to differentiate from manually entered frames.\n",
    "                df['manual_tracker_fix'] = False\n",
    "\n",
    "                # remove default columns added by multitracker that are wrong for mosquito larvae. \n",
    "                del df['angle'], df['area'], df['time_epoch'], df['time_epoch_nsecs'], \\\n",
    "                    df['time_epoch_secs'], df['speed'], \\\n",
    "                    df['velocity_x'], df['velocity_y']\n",
    "\n",
    "                df.to_csv(savename, index=False)\n",
    "                del video_clip.reader, video_clip\n",
    "            elif not os.path.isfile(videoname):\n",
    "                print(videoname)\n",
    "        except:\n",
    "            print(filename)\n",
    "\n",
    "print(\"--- All files converted ---\")"
   ]
  },
  {
   "cell_type": "markdown",
   "metadata": {
    "collapsed": true
   },
   "source": [
    "- Double check that all animals have one acclimate and experiment CSV file\n",
    "- Find videos with quiescent animals at beginning of video\n",
    "\n",
    "Multitracker will not register objects until they begin to move. In some videos, larvae do not start to move until several seconds into the experiment. Each of these videos were manually inspected to confirm lack of movement in the initial frames. Next, the tracker's position when the larva was first detected was propagated to the beginning of the movie. All manually corrected frames are marked with ['manual_tracker_fix'] == True."
   ]
  },
  {
   "cell_type": "code",
   "execution_count": 3,
   "metadata": {
    "scrolled": false
   },
   "outputs": [
    {
     "name": "stdout",
     "output_type": "stream",
     "text": [
      "--- All files checked ---\n",
      "0 files with issues found\n"
     ]
    }
   ],
   "source": [
    "df = pd.read_csv(\"./data/experiment_IDs/cleaned_static_data.csv\")\n",
    "df = df[df['dead'] != 'yes']\n",
    "animals = df[\"animal_ID\"].values\n",
    "\n",
    "# Check that each animal only has one acclimate and experiment CSV file \n",
    "acc_files = glob.glob(\"./data/trajectories/video_csvs/*-A-*.csv\")\n",
    "exp_files = glob.glob(\"./data/trajectories/video_csvs/*-E-*.csv\")\n",
    "\n",
    "# Print the names of any files that have fewer than framemin frames. \n",
    "# 1800 frames total for a 15 minute video.\n",
    "# Maximum 2 seconds data missing per video determined to be ok.\n",
    "\n",
    "count = 0\n",
    "framemin = 1795\n",
    "for name in sorted(acc_files + exp_files):\n",
    "    df = pd.read_csv(name)\n",
    "    missed = framemin - len(df)\n",
    "    if len(df) < framemin:\n",
    "        count += 1\n",
    "        print str(name).split(\"/\")[-1], ':', framemin-len(df), 'frames fewer than minimum'\n",
    "    if df['frames'].nunique() < len(df):\n",
    "        print str(name).split(\"/\")[-1], 'has issues with uniqueness'\n",
    "        \n",
    "print(\"--- All files checked ---\")\n",
    "print count, \"files with issues found\""
   ]
  },
  {
   "cell_type": "markdown",
   "metadata": {},
   "source": [
    "- Manually correct videos with quiescent animals at beginning of video\n",
    "\n",
    "If the video has been manually checked to see if it has a long period of no motion at the beginning, then we can automatically propagate the first frame data point backwards to the beginning of the video. "
   ]
  },
  {
   "cell_type": "code",
   "execution_count": 4,
   "metadata": {},
   "outputs": [
    {
     "name": "stdout",
     "output_type": "stream",
     "text": [
      "439 files to analyze\n",
      "--- All files converted ---\n"
     ]
    }
   ],
   "source": [
    "checked = pd.read_csv('./data/trajectories/manually_checked_beginning_pause.csv')\n",
    "checked_fnames = checked['filename'].values\n",
    "print len(checked_fnames), 'files to analyze'\n",
    "\n",
    "for name in checked_fnames: \n",
    "    fname = \"./data/trajectories/video_csvs/\"+name+\".csv\"\n",
    "    assert os.path.isfile(fname)\n",
    "    \n",
    "    df = pd.read_csv(fname)\n",
    "    fmin = df[\"frames\"].min()\n",
    "    fmin_row = df[df['frames'] == fmin]\n",
    "    assert len(fmin_row) == 1\n",
    "\n",
    "    if fmin > 2:\n",
    "        for n in range(2, fmin):\n",
    "            fmin_copy = fmin_row.copy()\n",
    "            fmin_copy.ix[0, \"objid\"] = \"manual\"\n",
    "            fmin_copy.ix[0, \"frames\"] = n\n",
    "            df = df.append(fmin_copy)\n",
    "\n",
    "        df = df.sort_values(by=\"frames\")\n",
    "        df.to_csv(fname, index=False)\n",
    "\n",
    "print(\"--- All files converted ---\")"
   ]
  },
  {
   "cell_type": "markdown",
   "metadata": {},
   "source": [
    "- Manually correct videos where animals are quiescent throughout"
   ]
  },
  {
   "cell_type": "code",
   "execution_count": 5,
   "metadata": {},
   "outputs": [
    {
     "name": "stdout",
     "output_type": "stream",
     "text": [
      "4 files to analyze\n",
      "--- All files converted ---\n"
     ]
    }
   ],
   "source": [
    "checked = pd.read_csv('./data/trajectories/no_movement_trajectories.csv')\n",
    "checked_fnames = checked['filename'].values\n",
    "print len(checked_fnames), 'files to analyze'\n",
    "\n",
    "for index, row in checked.iterrows(): \n",
    "    fname = \"./data/trajectories/video_csvs/\"+row['filename']+\".csv\"\n",
    "    \n",
    "    # Do not analyze files that have already been edited\n",
    "    if not os.path.isfile(fname):\n",
    "        frames = np.arange(1, 1801)\n",
    "        measurement_x = [row['x']]*len(frames)\n",
    "        measurement_y = [row['y']]*len(frames)\n",
    "        pixel_width = [row['width']]*len(frames)\n",
    "        pixel_height = [row['height']]*len(frames)\n",
    "        manual_tracker_fix = [True]*len(frames)\n",
    "        nans = [np.nan]*len(frames)\n",
    "\n",
    "        data = {'frames':frames, 'interpolated':nans, \n",
    "                'measurement_x':measurement_x, 'measurement_y':measurement_y,\n",
    "                'objid':nans, 'position_x':measurement_x, 'position_y':measurement_y,\n",
    "                'pixel_width':pixel_width, 'pixel_height':pixel_height,\n",
    "                'manual_tracker_fix':manual_tracker_fix}\n",
    "\n",
    "        df = pd.DataFrame.from_dict(data)\n",
    "        df.to_csv(fname, index=False)\n",
    "\n",
    "print(\"--- All files converted ---\")"
   ]
  },
  {
   "cell_type": "code",
   "execution_count": null,
   "metadata": {
    "collapsed": true
   },
   "outputs": [],
   "source": []
  }
 ],
 "metadata": {
  "kernelspec": {
   "display_name": "Python 3",
   "language": "python",
   "name": "python3"
  },
  "language_info": {
   "codemirror_mode": {
    "name": "ipython",
    "version": 3
   },
   "file_extension": ".py",
   "mimetype": "text/x-python",
   "name": "python",
   "nbconvert_exporter": "python",
   "pygments_lexer": "ipython3",
   "version": "3.7.3"
  }
 },
 "nbformat": 4,
 "nbformat_minor": 2
}
