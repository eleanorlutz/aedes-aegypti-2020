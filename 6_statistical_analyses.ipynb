{
 "cells": [
  {
   "cell_type": "markdown",
   "metadata": {},
   "source": [
    "### Statistical Analyses\n",
    "#### List of tasks accomplished in this Jupyter Notebook:\n",
    "- Calculate if there are any differences among the six species for each of the ten navigational variables (Kruskal test)\n",
    "- Calculate if the larvae of each species prefer each of the different treatment odors\n",
    "- Check if data gathered has a normal distribution (to inform the types of statistical tests that can be conducted)\n",
    "- Calculate if there are mortality differences across the larval species (Fisher's exact test for binary data)\n",
    "- Calculate pairwise perMANOVA for each species against each other species (navigation variables) as well as pairwise tests of multivariate dispersion (ANOVA) for all of the ten navigation variables during the acclimation period. "
   ]
  },
  {
   "cell_type": "code",
   "execution_count": 1,
   "metadata": {},
   "outputs": [
    {
     "data": {
      "text/plain": [
       "               _                           \n",
       "platform       x86_64-apple-darwin13.4.0   \n",
       "arch           x86_64                      \n",
       "os             darwin13.4.0                \n",
       "system         x86_64, darwin13.4.0        \n",
       "status                                     \n",
       "major          3                           \n",
       "minor          6.0                         \n",
       "year           2019                        \n",
       "month          04                          \n",
       "day            26                          \n",
       "svn rev        76424                       \n",
       "language       R                           \n",
       "version.string R version 3.6.0 (2019-04-26)\n",
       "nickname       Planting of a Tree          "
      ]
     },
     "metadata": {},
     "output_type": "display_data"
    },
    {
     "name": "stderr",
     "output_type": "stream",
     "text": [
      "Loading required package: permute\n",
      "Loading required package: lattice\n",
      "This is vegan 2.5-6\n"
     ]
    }
   ],
   "source": [
    "R.version # print R version for reference\n",
    "library(vegan)"
   ]
  },
  {
   "cell_type": "code",
   "execution_count": 2,
   "metadata": {},
   "outputs": [],
   "source": [
    "setwd(\"/Users/ghost/Documents/Gitrepos/aedes-aegypti-2020/data/\")\n",
    "method_n <- \"holm\"\n",
    "\n",
    "species <- c(\"Aedes aegypti\", \"Aedes albopictus\", \"Anopheles arabiensis\", \n",
    "             \"Anopheles gambiae\", \"Culex quinquefasciatus\", \"Culex tarsalis\")"
   ]
  },
  {
   "cell_type": "code",
   "execution_count": 3,
   "metadata": {},
   "outputs": [
    {
     "data": {
      "text/html": [
       "'TRUE/FALSE: Larval length data has a normal distribution'"
      ],
      "text/latex": [
       "'TRUE/FALSE: Larval length data has a normal distribution'"
      ],
      "text/markdown": [
       "'TRUE/FALSE: Larval length data has a normal distribution'"
      ],
      "text/plain": [
       "[1] \"TRUE/FALSE: Larval length data has a normal distribution\""
      ]
     },
     "metadata": {},
     "output_type": "display_data"
    },
    {
     "data": {
      "text/html": [
       "'All tests must pass to use statistical tests that assume normality'"
      ],
      "text/latex": [
       "'All tests must pass to use statistical tests that assume normality'"
      ],
      "text/markdown": [
       "'All tests must pass to use statistical tests that assume normality'"
      ],
      "text/plain": [
       "[1] \"All tests must pass to use statistical tests that assume normality\""
      ]
     },
     "metadata": {},
     "output_type": "display_data"
    },
    {
     "name": "stdout",
     "output_type": "stream",
     "text": [
      "[1] FALSE\n",
      "[1] TRUE\n",
      "[1] FALSE\n",
      "[1] FALSE\n",
      "[1] TRUE\n",
      "[1] TRUE\n"
     ]
    },
    {
     "data": {
      "text/html": [
       "'TRUE/FALSE: Larval length data has a normal distribution'"
      ],
      "text/latex": [
       "'TRUE/FALSE: Larval length data has a normal distribution'"
      ],
      "text/markdown": [
       "'TRUE/FALSE: Larval length data has a normal distribution'"
      ],
      "text/plain": [
       "[1] \"TRUE/FALSE: Larval length data has a normal distribution\""
      ]
     },
     "metadata": {},
     "output_type": "display_data"
    },
    {
     "data": {
      "text/html": [
       "'All tests must pass to use statistical tests that assume normality'"
      ],
      "text/latex": [
       "'All tests must pass to use statistical tests that assume normality'"
      ],
      "text/markdown": [
       "'All tests must pass to use statistical tests that assume normality'"
      ],
      "text/plain": [
       "[1] \"All tests must pass to use statistical tests that assume normality\""
      ]
     },
     "metadata": {},
     "output_type": "display_data"
    },
    {
     "name": "stdout",
     "output_type": "stream",
     "text": [
      "[1] FALSE\n",
      "[1] FALSE\n",
      "[1] FALSE\n",
      "[1] FALSE\n",
      "[1] FALSE\n",
      "[1] FALSE\n",
      "Number of tests ran: 11"
     ]
    },
    {
     "data": {
      "text/html": [
       "<table>\n",
       "<thead><tr><th scope=col>t</th><th scope=col>p</th><th scope=col>p...0.05</th><th scope=col>p...0.01</th><th scope=col>p...0.001</th><th scope=col>p...1e.04</th></tr></thead>\n",
       "<tbody>\n",
       "\t<tr><td>time_move_p by species             </td><td>1.906564e-66                       </td><td>TRUE                               </td><td>TRUE                               </td><td>TRUE                               </td><td>TRUE                               </td></tr>\n",
       "\t<tr><td>total_dist_m by species            </td><td>6.343186e-34                       </td><td>TRUE                               </td><td>TRUE                               </td><td>TRUE                               </td><td>TRUE                               </td></tr>\n",
       "\t<tr><td>avg_speed_BL by species            </td><td>1.045708e-48                       </td><td>TRUE                               </td><td>TRUE                               </td><td>TRUE                               </td><td>TRUE                               </td></tr>\n",
       "\t<tr><td>max_speed_BL by species            </td><td>1.347426e-57                       </td><td>TRUE                               </td><td>TRUE                               </td><td>TRUE                               </td><td>TRUE                               </td></tr>\n",
       "\t<tr><td>mean_speed_first_BL by species     </td><td>1.408676e-24                       </td><td>TRUE                               </td><td>TRUE                               </td><td>TRUE                               </td><td>TRUE                               </td></tr>\n",
       "\t<tr><td>diff_speed_first_last_BL by species</td><td>8.845618e-37                       </td><td>TRUE                               </td><td>TRUE                               </td><td>TRUE                               </td><td>TRUE                               </td></tr>\n",
       "\t<tr><td>sharp_turns_p by species           </td><td>4.902439e-34                       </td><td>TRUE                               </td><td>TRUE                               </td><td>TRUE                               </td><td>TRUE                               </td></tr>\n",
       "\t<tr><td>spirals by species                 </td><td>2.749885e-48                       </td><td>TRUE                               </td><td>TRUE                               </td><td>TRUE                               </td><td>TRUE                               </td></tr>\n",
       "\t<tr><td>continuous by species              </td><td>5.502450e-55                       </td><td>TRUE                               </td><td>TRUE                               </td><td>TRUE                               </td><td>TRUE                               </td></tr>\n",
       "\t<tr><td>max_still_sec by species           </td><td>9.820142e-50                       </td><td>TRUE                               </td><td>TRUE                               </td><td>TRUE                               </td><td>TRUE                               </td></tr>\n",
       "\t<tr><td>length_mm by species               </td><td>2.266289e-27                       </td><td>TRUE                               </td><td>TRUE                               </td><td>TRUE                               </td><td>TRUE                               </td></tr>\n",
       "</tbody>\n",
       "</table>\n"
      ],
      "text/latex": [
       "\\begin{tabular}{r|llllll}\n",
       " t & p & p...0.05 & p...0.01 & p...0.001 & p...1e.04\\\\\n",
       "\\hline\n",
       "\t time\\_move\\_p by species              & 1.906564e-66                            & TRUE                                    & TRUE                                    & TRUE                                    & TRUE                                   \\\\\n",
       "\t total\\_dist\\_m by species             & 6.343186e-34                            & TRUE                                    & TRUE                                    & TRUE                                    & TRUE                                   \\\\\n",
       "\t avg\\_speed\\_BL by species             & 1.045708e-48                            & TRUE                                    & TRUE                                    & TRUE                                    & TRUE                                   \\\\\n",
       "\t max\\_speed\\_BL by species             & 1.347426e-57                            & TRUE                                    & TRUE                                    & TRUE                                    & TRUE                                   \\\\\n",
       "\t mean\\_speed\\_first\\_BL by species      & 1.408676e-24                              & TRUE                                      & TRUE                                      & TRUE                                      & TRUE                                     \\\\\n",
       "\t diff\\_speed\\_first\\_last\\_BL by species & 8.845618e-37                                & TRUE                                        & TRUE                                        & TRUE                                        & TRUE                                       \\\\\n",
       "\t sharp\\_turns\\_p by species            & 4.902439e-34                            & TRUE                                    & TRUE                                    & TRUE                                    & TRUE                                   \\\\\n",
       "\t spirals by species                  & 2.749885e-48                        & TRUE                                & TRUE                                & TRUE                                & TRUE                               \\\\\n",
       "\t continuous by species               & 5.502450e-55                        & TRUE                                & TRUE                                & TRUE                                & TRUE                               \\\\\n",
       "\t max\\_still\\_sec by species            & 9.820142e-50                            & TRUE                                    & TRUE                                    & TRUE                                    & TRUE                                   \\\\\n",
       "\t length\\_mm by species                & 2.266289e-27                          & TRUE                                  & TRUE                                  & TRUE                                  & TRUE                                 \\\\\n",
       "\\end{tabular}\n"
      ],
      "text/markdown": [
       "\n",
       "| t | p | p...0.05 | p...0.01 | p...0.001 | p...1e.04 |\n",
       "|---|---|---|---|---|---|\n",
       "| time_move_p by species              | 1.906564e-66                        | TRUE                                | TRUE                                | TRUE                                | TRUE                                |\n",
       "| total_dist_m by species             | 6.343186e-34                        | TRUE                                | TRUE                                | TRUE                                | TRUE                                |\n",
       "| avg_speed_BL by species             | 1.045708e-48                        | TRUE                                | TRUE                                | TRUE                                | TRUE                                |\n",
       "| max_speed_BL by species             | 1.347426e-57                        | TRUE                                | TRUE                                | TRUE                                | TRUE                                |\n",
       "| mean_speed_first_BL by species      | 1.408676e-24                        | TRUE                                | TRUE                                | TRUE                                | TRUE                                |\n",
       "| diff_speed_first_last_BL by species | 8.845618e-37                        | TRUE                                | TRUE                                | TRUE                                | TRUE                                |\n",
       "| sharp_turns_p by species            | 4.902439e-34                        | TRUE                                | TRUE                                | TRUE                                | TRUE                                |\n",
       "| spirals by species                  | 2.749885e-48                        | TRUE                                | TRUE                                | TRUE                                | TRUE                                |\n",
       "| continuous by species               | 5.502450e-55                        | TRUE                                | TRUE                                | TRUE                                | TRUE                                |\n",
       "| max_still_sec by species            | 9.820142e-50                        | TRUE                                | TRUE                                | TRUE                                | TRUE                                |\n",
       "| length_mm by species                | 2.266289e-27                        | TRUE                                | TRUE                                | TRUE                                | TRUE                                |\n",
       "\n"
      ],
      "text/plain": [
       "   t                                   p            p...0.05 p...0.01 p...0.001\n",
       "1  time_move_p by species              1.906564e-66 TRUE     TRUE     TRUE     \n",
       "2  total_dist_m by species             6.343186e-34 TRUE     TRUE     TRUE     \n",
       "3  avg_speed_BL by species             1.045708e-48 TRUE     TRUE     TRUE     \n",
       "4  max_speed_BL by species             1.347426e-57 TRUE     TRUE     TRUE     \n",
       "5  mean_speed_first_BL by species      1.408676e-24 TRUE     TRUE     TRUE     \n",
       "6  diff_speed_first_last_BL by species 8.845618e-37 TRUE     TRUE     TRUE     \n",
       "7  sharp_turns_p by species            4.902439e-34 TRUE     TRUE     TRUE     \n",
       "8  spirals by species                  2.749885e-48 TRUE     TRUE     TRUE     \n",
       "9  continuous by species               5.502450e-55 TRUE     TRUE     TRUE     \n",
       "10 max_still_sec by species            9.820142e-50 TRUE     TRUE     TRUE     \n",
       "11 length_mm by species                2.266289e-27 TRUE     TRUE     TRUE     \n",
       "   p...1e.04\n",
       "1  TRUE     \n",
       "2  TRUE     \n",
       "3  TRUE     \n",
       "4  TRUE     \n",
       "5  TRUE     \n",
       "6  TRUE     \n",
       "7  TRUE     \n",
       "8  TRUE     \n",
       "9  TRUE     \n",
       "10 TRUE     \n",
       "11 TRUE     "
      ]
     },
     "metadata": {},
     "output_type": "display_data"
    }
   ],
   "source": [
    "# FIGURE S2 and FIGURE 2\n",
    "\n",
    "# Adjust all tests for the same data using the Holm-Bonferroni correction\n",
    "p <- \"placeholder\"\n",
    "t <- \"placeholder\"\n",
    "\n",
    "data <- read.csv('./trajectories/cleaned_animal_analyses_acclimation.csv')\n",
    "data <- subset(data, data$dead!='yes')\n",
    "data$species <- as.factor(data$species)\n",
    "\n",
    "# Individual variables by species\n",
    "resp <- kruskal.test(data$time_move_p~data$species)\n",
    "p <- c(p, resp$p.value)\n",
    "t <- c(t, \"time_move_p by species\")\n",
    "\n",
    "resp <- kruskal.test(data$total_dist_m~data$species)\n",
    "p <- c(p, resp$p.value)\n",
    "t <- c(t, \"total_dist_m by species\")\n",
    "\n",
    "resp <- kruskal.test(data$avg_speed_BL~data$species)\n",
    "p <- c(p, resp$p.value)\n",
    "t <- c(t, \"avg_speed_BL by species\")\n",
    "\n",
    "resp <- kruskal.test(data$max_speed_BL~data$species)\n",
    "p <- c(p, resp$p.value)\n",
    "t <- c(t, \"max_speed_BL by species\")\n",
    "\n",
    "resp <- kruskal.test(data$mean_speed_first_BL~data$species)\n",
    "p <- c(p, resp$p.value)\n",
    "t <- c(t, \"mean_speed_first_BL by species\")\n",
    "\n",
    "resp <- kruskal.test(data$diff_speed_first_last_BL~data$species)\n",
    "p <- c(p, resp$p.value)\n",
    "t <- c(t, \"diff_speed_first_last_BL by species\")\n",
    "\n",
    "resp <- kruskal.test(data$sharp_turns_p~data$species)\n",
    "p <- c(p, resp$p.value)\n",
    "t <- c(t, \"sharp_turns_p by species\")\n",
    "\n",
    "resp <- kruskal.test(data$spirals~data$species)\n",
    "p <- c(p, resp$p.value)\n",
    "t <- c(t, \"spirals by species\")\n",
    "\n",
    "resp <- kruskal.test(data$continuous~data$species)\n",
    "p <- c(p, resp$p.value)\n",
    "t <- c(t, \"continuous by species\")\n",
    "\n",
    "resp <- kruskal.test(data$max_still_sec~data$species)\n",
    "p <- c(p, resp$p.value)\n",
    "t <- c(t, \"max_still_sec by species\")\n",
    "\n",
    "resp <- kruskal.test(data$length_mm~data$species)\n",
    "p <- c(p, resp$p.value)\n",
    "t <- c(t, \"length_mm by species\")\n",
    "\n",
    "\"TRUE/FALSE: Larval length data has a normal distribution\"\n",
    "\"All tests must pass to use statistical tests that assume normality\"\n",
    "for (specie in species){\n",
    "    spec <- subset(data, species==specie)\n",
    "    print(shapiro.test(spec$length_mm)$p.value>0.05)}\n",
    "\n",
    "\"TRUE/FALSE: Larval length data has a normal distribution\"\n",
    "\"All tests must pass to use statistical tests that assume normality\"\n",
    "for (specie in species){\n",
    "    spec <- subset(data, species==specie)\n",
    "    print(shapiro.test(spec$spirals)$p.value>0.05)}\n",
    "\n",
    "# remove placeholder values and print out p values\n",
    "p <- p[-1]; \n",
    "t <- t[-1];\n",
    "cat(\"Number of tests ran:\", length(p))\n",
    "p <- p.adjust(p, method=method_n)\n",
    "d <- data.frame(t, p, p<0.05, p<0.01, p<0.001, p<0.0001)\n",
    "d"
   ]
  },
  {
   "cell_type": "code",
   "execution_count": 4,
   "metadata": {
    "scrolled": false
   },
   "outputs": [
    {
     "name": "stdout",
     "output_type": "stream",
     "text": [
      "[1] \"Aedes aegypti\"\n",
      "                  ts                 ds                   ps\n",
      "1    05_percent_food    19.872251984127 0.000239226386199883\n",
      "2      100ul_quinine           -8.60797 9.32954928568418e-06\n",
      "3 100ul_milliQ_water 0.0421336805555566    0.983732683815243\n",
      "[1] \"Aedes albopictus\"\n",
      "                  ts                ds                   ps\n",
      "1    05_percent_food   31.630240530303 1.47068238867747e-06\n",
      "2      100ul_quinine -10.9511153846154 8.55609867672397e-07\n",
      "3 100ul_milliQ_water  3.91859782608696    0.286956744900889\n",
      "[1] \"Anopheles arabiensis\"\n",
      "                  ts                 ds                  ps\n",
      "1    05_percent_food   12.5379717261905 0.00483017723835698\n",
      "2      100ul_quinine  -7.02041087962963 0.00182271020816546\n",
      "3 100ul_milliQ_water -0.412895114942529   0.874252434426427\n",
      "[1] \"Anopheles gambiae\"\n",
      "                  ts                 ds                 ps\n",
      "1    05_percent_food   6.56975126262626 0.0429712937330738\n",
      "2      100ul_quinine  -7.19119369369369 0.0011600986894442\n",
      "3 100ul_milliQ_water -0.747811403508774  0.765291973310122\n",
      "[1] \"Culex quinquefasciatus\"\n",
      "                  ts                ds                  ps\n",
      "1    05_percent_food  14.4502323232323 0.00600768509903081\n",
      "2      100ul_quinine      -2.012453125   0.422762105896014\n",
      "3 100ul_milliQ_water -2.81002927927928   0.279789997444033\n",
      "[1] \"Culex tarsalis\"\n",
      "                  ts                 ds                  ps\n",
      "1    05_percent_food        15.74046875 0.00113272587867635\n",
      "2      100ul_quinine          -1.858025   0.601734403068398\n",
      "3 100ul_milliQ_water -0.544254629629629   0.895913266982805\n"
     ]
    }
   ],
   "source": [
    "# FIGURE 4A\n",
    "\n",
    "data <- read.csv('./trajectories/cleaned_animal_analyses_experiment.csv')\n",
    "data <- subset(data, data$dead!='yes')\n",
    "treatments <- c(\"05_percent_food\", \"100ul_quinine\", '100ul_milliQ_water')\n",
    "\n",
    "data$treatment_odor <- as.factor(data$treatment_odor)\n",
    "data$sex <- as.factor(data$sex)\n",
    "data$species <- as.factor(data$species)\n",
    "\n",
    "for (specie in species){\n",
    "    spec <- subset(data, species==specie)\n",
    "    print(specie)\n",
    "    ps <- 'test'\n",
    "    ts <- 'test'\n",
    "    ds <- 'test'\n",
    "    for (treat in treatments){\n",
    "        ss <- subset(spec, treatment_odor==treat)\n",
    "        resp <- t.test(ss$A_median_conc, ss$E_median_conc, paired=TRUE, \n",
    "                        alternative=\"two.sided\")\n",
    "        diff <- mean(ss$E_median_conc) - mean(ss$A_median_conc)\n",
    "        ps <- c(ps, resp$p.value)\n",
    "        ts <- c(ts, treat)\n",
    "        ds <- c(ds, diff)}\n",
    "    # remove placeholder values and print out p values\n",
    "    ps <- ps[-1]; \n",
    "    ts <- ts[-1];\n",
    "    ds <- ds[-1];\n",
    "    d <- data.frame(ts, ds, ps)\n",
    "    print(d)}"
   ]
  },
  {
   "cell_type": "code",
   "execution_count": 5,
   "metadata": {},
   "outputs": [
    {
     "data": {
      "text/html": [
       "'TRUE/FALSE: Data queried has a normal distribution'"
      ],
      "text/latex": [
       "'TRUE/FALSE: Data queried has a normal distribution'"
      ],
      "text/markdown": [
       "'TRUE/FALSE: Data queried has a normal distribution'"
      ],
      "text/plain": [
       "[1] \"TRUE/FALSE: Data queried has a normal distribution\""
      ]
     },
     "metadata": {},
     "output_type": "display_data"
    },
    {
     "data": {
      "text/html": [
       "'All tests must pass to use statistical tests that assume normality'"
      ],
      "text/latex": [
       "'All tests must pass to use statistical tests that assume normality'"
      ],
      "text/markdown": [
       "'All tests must pass to use statistical tests that assume normality'"
      ],
      "text/plain": [
       "[1] \"All tests must pass to use statistical tests that assume normality\""
      ]
     },
     "metadata": {},
     "output_type": "display_data"
    },
    {
     "name": "stdout",
     "output_type": "stream",
     "text": [
      "[1] FALSE\n",
      "[1] FALSE\n",
      "[1] FALSE\n",
      "[1] FALSE\n",
      "[1] FALSE\n",
      "[1] FALSE\n",
      "[1] FALSE\n",
      "[1] FALSE\n",
      "[1] FALSE\n",
      "[1] FALSE\n",
      "[1] FALSE\n",
      "[1] FALSE\n",
      "[1] FALSE\n",
      "[1] FALSE\n",
      "[1] FALSE\n",
      "[1] FALSE\n",
      "[1] TRUE\n",
      "[1] FALSE\n",
      "[1] \"----\"\n",
      "[1] \"Aedes aegypti\"\n",
      "[1] 0.59852\n",
      "[1] \"----\"\n",
      "[1] \"Aedes albopictus\"\n",
      "[1] 0.7122485\n",
      "[1] \"----\"\n",
      "[1] \"Anopheles arabiensis\"\n",
      "[1] 0.5197619\n",
      "[1] \"----\"\n",
      "[1] \"Anopheles gambiae\"\n",
      "[1] 0.2151414\n",
      "[1] \"----\"\n",
      "[1] \"Culex quinquefasciatus\"\n",
      "[1] 0.6395367\n",
      "[1] \"----\"\n",
      "[1] \"Culex tarsalis\"\n",
      "[1] 0.9325915\n"
     ]
    }
   ],
   "source": [
    "# FIGURE 4B\n",
    "\n",
    "data <- read.csv('./trajectories/cleaned_animal_analyses_experiment.csv')\n",
    "data <- subset(data, data$dead!='yes')\n",
    "treatments <- c(\"05_percent_food\", \"100ul_quinine\", \"100ul_milliQ_water\")\n",
    "\n",
    "data$treatment_odor <- as.factor(data$treatment_odor)\n",
    "data$sex <- as.factor(data$sex)\n",
    "data$species <- as.factor(data$species)\n",
    "\n",
    "\"TRUE/FALSE: Data queried has a normal distribution\"\n",
    "\"All tests must pass to use statistical tests that assume normality\"\n",
    "\n",
    "for (specie in species){\n",
    "    spec <- subset(data, species==specie)\n",
    "    for (treat in treatments){\n",
    "        spec_t <- subset(spec, treatment_odor==treat)\n",
    "        print(shapiro.test(spec_t$E_discovery_time)$p.value>0.05)}}\n",
    "\n",
    "for (specie in species){\n",
    "    spec <- subset(data, species==specie)\n",
    "    water <- subset(spec, treatment_odor=='100ul_milliQ_water')\n",
    "    resp <- kruskal.test(spec$discovery_time_diff~spec$treatment_odor)\n",
    "    \n",
    "    print(\"----\")\n",
    "    print(specie)\n",
    "    print(resp$p.value)\n",
    "}"
   ]
  },
  {
   "cell_type": "code",
   "execution_count": 7,
   "metadata": {},
   "outputs": [
    {
     "data": {
      "text/html": [
       "<table>\n",
       "<thead><tr><th></th><th scope=col>alive</th><th scope=col>dead</th></tr></thead>\n",
       "<tbody>\n",
       "\t<tr><th scope=row>Aedes aegypti</th><td> 67</td><td> 2 </td></tr>\n",
       "\t<tr><th scope=row>Aedes albopictus</th><td> 70</td><td> 7 </td></tr>\n",
       "\t<tr><th scope=row>Anopheles arabiensis</th><td> 93</td><td>50 </td></tr>\n",
       "\t<tr><th scope=row>Anopheles coluzzii</th><td>108</td><td> 5 </td></tr>\n",
       "\t<tr><th scope=row>Culex quinquefasciatus</th><td>110</td><td>21 </td></tr>\n",
       "\t<tr><th scope=row>Culex tarsalis</th><td> 53</td><td>31 </td></tr>\n",
       "</tbody>\n",
       "</table>\n"
      ],
      "text/latex": [
       "\\begin{tabular}{r|ll}\n",
       "  & alive & dead\\\\\n",
       "\\hline\n",
       "\tAedes aegypti &  67 &  2 \\\\\n",
       "\tAedes albopictus &  70 &  7 \\\\\n",
       "\tAnopheles arabiensis &  93 & 50 \\\\\n",
       "\tAnopheles coluzzii & 108 &  5 \\\\\n",
       "\tCulex quinquefasciatus & 110 & 21 \\\\\n",
       "\tCulex tarsalis &  53 & 31 \\\\\n",
       "\\end{tabular}\n"
      ],
      "text/markdown": [
       "\n",
       "| <!--/--> | alive | dead |\n",
       "|---|---|---|\n",
       "| Aedes aegypti |  67 |  2  |\n",
       "| Aedes albopictus |  70 |  7  |\n",
       "| Anopheles arabiensis |  93 | 50  |\n",
       "| Anopheles coluzzii | 108 |  5  |\n",
       "| Culex quinquefasciatus | 110 | 21  |\n",
       "| Culex tarsalis |  53 | 31  |\n",
       "\n"
      ],
      "text/plain": [
       "                       alive dead\n",
       "Aedes aegypti           67    2  \n",
       "Aedes albopictus        70    7  \n",
       "Anopheles arabiensis    93   50  \n",
       "Anopheles coluzzii     108    5  \n",
       "Culex quinquefasciatus 110   21  \n",
       "Culex tarsalis          53   31  "
      ]
     },
     "metadata": {},
     "output_type": "display_data"
    },
    {
     "name": "stdout",
     "output_type": "stream",
     "text": [
      "                       t           p p...0.05 p...0.01 p...0.001 p...1e.04\n",
      "1    Species differences 0.003498251     TRUE     TRUE     FALSE     FALSE\n",
      "2          Aedes aegypti 1.000000000    FALSE    FALSE     FALSE     FALSE\n",
      "3       Aedes albopictus 1.000000000    FALSE    FALSE     FALSE     FALSE\n",
      "4   Anopheles arabiensis 1.000000000    FALSE    FALSE     FALSE     FALSE\n",
      "5      Anopheles gambiae 1.000000000    FALSE    FALSE     FALSE     FALSE\n",
      "6 Culex quinquefasciatus 1.000000000    FALSE    FALSE     FALSE     FALSE\n",
      "7         Culex tarsalis 1.000000000    FALSE    FALSE     FALSE     FALSE\n"
     ]
    }
   ],
   "source": [
    "# FIGURE S2\n",
    "\n",
    "# Adjust all tests for the same data using the Holm-Bonferroni correction\n",
    "p <- \"placeholder\"\n",
    "t <- \"placeholder\"\n",
    "\n",
    "mortality <- read.csv('./experiment_IDs/species_mortality_table.csv',\n",
    "                      header=TRUE, row.names=1)\n",
    "mortality\n",
    "\n",
    "# Fisher's exact test for mortality data, between species\n",
    "resp <- fisher.test(mortality, simulate.p.value=TRUE)\n",
    "p <- c(p, resp$p.value)\n",
    "t <- c(t, paste(\"Species differences\", sep=\" \"))\n",
    "\n",
    "# Fisher's exact test for mortality data, between treatments for each species\n",
    "data <- read.csv('./experiment_IDs/experiment_mortality_table.csv', header=TRUE)\n",
    "for (specie in species){\n",
    "    data_subset <- subset(data, species==specie, select=c(alive, dead))\n",
    "    resp <- fisher.test(data_subset, simulate.p.value=TRUE)\n",
    "    p <- c(p, resp$p.value)\n",
    "    t <- c(t, paste(specie, sep=\" \"))}\n",
    "\n",
    "# remove placeholder values and print out p values\n",
    "p <- p[-1]; \n",
    "t <- t[-1];\n",
    "\n",
    "# cat(\"Number of tests ran:\", length(p))\n",
    "p <- p.adjust(p, method=method_n)\n",
    "d <- data.frame(t, p, p<0.05, p<0.01, p<0.001, p<0.0001)\n",
    "print(d)"
   ]
  },
  {
   "cell_type": "code",
   "execution_count": 9,
   "metadata": {
    "scrolled": false
   },
   "outputs": [
    {
     "name": "stdout",
     "output_type": "stream",
     "text": [
      "[1] \"----\"\n",
      "[1] \"Comparison across all species\"\n"
     ]
    },
    {
     "data": {
      "text/plain": [
       "\n",
       "Call:\n",
       "adonis(formula = sp.data.tra ~ species, data = sp.species, permutations = n,      method = \"euclidean\") \n",
       "\n",
       "Permutation: free\n",
       "Number of permutations: 10000\n",
       "\n",
       "Terms added sequentially (first to last)\n",
       "\n",
       "           Df SumsOfSqs MeanSqs F.Model      R2    Pr(>F)    \n",
       "species     5    2089.5  417.90  70.677 0.41458 9.999e-05 ***\n",
       "Residuals 499    2950.5    5.91         0.58542              \n",
       "Total     504    5040.0                 1.00000              \n",
       "---\n",
       "Signif. codes:  0 ‘***’ 0.001 ‘**’ 0.01 ‘*’ 0.05 ‘.’ 0.1 ‘ ’ 1"
      ]
     },
     "metadata": {},
     "output_type": "display_data"
    },
    {
     "name": "stdout",
     "output_type": "stream",
     "text": [
      "[1] \"----\"\n",
      "                                                   t            p\n",
      "1                PM, Aedes aegypti, Aedes albopictus 0.0026997300\n",
      "2            PM, Aedes aegypti, Anopheles arabiensis 0.0026997300\n",
      "3               PM, Aedes aegypti, Anopheles gambiae 0.0026997300\n",
      "4                  PM, Aedes aegypti, Culex tarsalis 0.0026997300\n",
      "5          PM, Aedes aegypti, Culex quinquefasciatus 0.0026997300\n",
      "6         PM, Aedes albopictus, Anopheles arabiensis 0.0026997300\n",
      "7            PM, Aedes albopictus, Anopheles gambiae 0.0026997300\n",
      "8               PM, Aedes albopictus, Culex tarsalis 0.0026997300\n",
      "9       PM, Aedes albopictus, Culex quinquefasciatus 0.0026997300\n",
      "10       PM, Anopheles arabiensis, Anopheles gambiae 0.0026997300\n",
      "11          PM, Anopheles arabiensis, Culex tarsalis 0.0026997300\n",
      "12  PM, Anopheles arabiensis, Culex quinquefasciatus 0.0026997300\n",
      "13             PM, Anopheles gambiae, Culex tarsalis 0.0026997300\n",
      "14     PM, Anopheles gambiae, Culex quinquefasciatus 0.0026997300\n",
      "15        PM, Culex tarsalis, Culex quinquefasciatus 0.0026997300\n",
      "16              BDP, Aedes aegypti, Aedes albopictus 0.2200495222\n",
      "17          BDP, Aedes aegypti, Anopheles arabiensis 1.0000000000\n",
      "18             BDP, Aedes aegypti, Anopheles gambiae 1.0000000000\n",
      "19                BDP, Aedes aegypti, Culex tarsalis 1.0000000000\n",
      "20        BDP, Aedes aegypti, Culex quinquefasciatus 0.2820436745\n",
      "21       BDP, Aedes albopictus, Anopheles arabiensis 1.0000000000\n",
      "22          BDP, Aedes albopictus, Anopheles gambiae 0.1190735004\n",
      "23             BDP, Aedes albopictus, Culex tarsalis 0.2820436745\n",
      "24     BDP, Aedes albopictus, Culex quinquefasciatus 0.0007111690\n",
      "25      BDP, Anopheles arabiensis, Anopheles gambiae 0.0008646853\n",
      "26         BDP, Anopheles arabiensis, Culex tarsalis 1.0000000000\n",
      "27 BDP, Anopheles arabiensis, Culex quinquefasciatus 0.0002072666\n",
      "28            BDP, Anopheles gambiae, Culex tarsalis 0.6004509611\n",
      "29    BDP, Anopheles gambiae, Culex quinquefasciatus 1.0000000000\n",
      "30       BDP, Culex tarsalis, Culex quinquefasciatus 0.6004509611\n",
      "                    f\n",
      "1    11.1248493967436\n",
      "2    89.9189528453335\n",
      "3    115.655927943124\n",
      "4    20.1284752188305\n",
      "5    25.6581575221413\n",
      "6    99.6577368921791\n",
      "7    118.579565730135\n",
      "8    16.9590111341967\n",
      "9    38.7326259366176\n",
      "10   33.0989030268935\n",
      "11   48.5018501739637\n",
      "12   71.4094949586888\n",
      "13   63.5633700068575\n",
      "14   69.0359645653443\n",
      "15   29.6884710275169\n",
      "16   5.53843125011876\n",
      "17   0.76008589522123\n",
      "18   1.44152685205069\n",
      "19 0.0152620010741514\n",
      "20   4.89514793774909\n",
      "21  0.030196408985006\n",
      "22   6.79462456109979\n",
      "23   4.83872110903397\n",
      "24   18.7709634778944\n",
      "25    18.190058998245\n",
      "26  0.217908197784642\n",
      "27    21.325356873154\n",
      "28    3.1504133035306\n",
      "29 0.0610892633215023\n",
      "30   3.21025238980567\n"
     ]
    }
   ],
   "source": [
    "# FIGURE 3\n",
    "n <- 10000\n",
    "\n",
    "# perMANOVA for all six species at once\n",
    "data <- read.csv('./trajectories/cleaned_animal_analyses_acclimation.csv')\n",
    "sp.data <- subset(data, select=-c(species, treatment_odor, sex, dead, length_mm))\n",
    "sp.species <- subset(data, select=c(animal_ID, species))\n",
    "rownames(sp.data) <- sp.data$animal_ID\n",
    "sp.data <- subset(sp.data, select=-c(animal_ID))\n",
    "rownames(sp.species) <- sp.species$animal_ID\n",
    "sp.species <- subset(sp.species, select=-c(animal_ID))\n",
    "sp.data.tra<-decostand(sp.data, method='standardize', margin='column', plot=F)\n",
    "perm <- adonis(sp.data.tra~species, data=sp.species, \n",
    "               permutations=n, method='euclidean')\n",
    "# perm[[1]]\n",
    "print(\"----\")\n",
    "print(\"Comparison across all species\")\n",
    "perm\n",
    "print(\"----\")\n",
    "\n",
    "# Adjust all tests for the same data using the Holm-Bonferroni correction\n",
    "p <- \"placeholder\"\n",
    "t <- \"placeholder\"\n",
    "f <- \"placeholder\"\n",
    "\n",
    "sp_pairs <- list()\n",
    "sp_pairs[[1]] <- c('Aedes aegypti', 'Aedes albopictus')\n",
    "sp_pairs[[2]] <- c('Aedes aegypti', 'Anopheles arabiensis')\n",
    "sp_pairs[[3]] <- c('Aedes aegypti', 'Anopheles gambiae')\n",
    "sp_pairs[[4]] <- c('Aedes aegypti', 'Culex tarsalis')\n",
    "sp_pairs[[5]] <- c('Aedes aegypti', 'Culex quinquefasciatus')\n",
    "sp_pairs[[6]] <- c('Aedes albopictus', 'Anopheles arabiensis')\n",
    "sp_pairs[[7]] <- c('Aedes albopictus', 'Anopheles gambiae')\n",
    "sp_pairs[[8]] <- c('Aedes albopictus', 'Culex tarsalis')\n",
    "sp_pairs[[9]] <- c('Aedes albopictus', 'Culex quinquefasciatus')\n",
    "sp_pairs[[10]] <- c('Anopheles arabiensis', 'Anopheles gambiae')\n",
    "sp_pairs[[11]] <- c('Anopheles arabiensis', 'Culex tarsalis')\n",
    "sp_pairs[[12]] <- c('Anopheles arabiensis', 'Culex quinquefasciatus')\n",
    "sp_pairs[[13]] <- c('Anopheles gambiae', 'Culex tarsalis')\n",
    "sp_pairs[[14]] <- c('Anopheles gambiae', 'Culex quinquefasciatus')\n",
    "sp_pairs[[15]] <- c('Culex tarsalis', 'Culex quinquefasciatus')\n",
    "\n",
    "for (pair in sp_pairs){\n",
    "    data <- read.csv('./trajectories/cleaned_animal_analyses_acclimation.csv')\n",
    "    data <- subset(data, species == pair[1] | species == pair[2])\n",
    "    data$species <- as.factor(data$species)\n",
    "    sp.data <- subset(data, select=-c(species, treatment_odor, sex, dead, length_mm))\n",
    "    sp.species <- subset(data, select=c(animal_ID, species))\n",
    "    rownames(sp.data) <- sp.data$animal_ID\n",
    "    sp.data <- subset(sp.data, select=-c(animal_ID))\n",
    "    rownames(sp.species) <- sp.species$animal_ID\n",
    "    sp.species <- subset(sp.species, select=-c(animal_ID))\n",
    "    sp.data.tra<-decostand(sp.data, method='standardize', margin='column', plot=F)\n",
    "    perm <- adonis(sp.data.tra~species, data=sp.species, \n",
    "                   permutations=n, method='euclidean')\n",
    "    p <- c(p, perm[[1]][1,6])\n",
    "    f <- c(f, perm[[1]][1,4])\n",
    "    t <- c(t, paste(c('PM', pair), collapse=', '))\n",
    "}\n",
    "\n",
    "for (pair in sp_pairs){\n",
    "    data <- read.csv('./trajectories/cleaned_animal_analyses_acclimation.csv')\n",
    "    data <- subset(data, species == pair[1] | species == pair[2])\n",
    "    data$species <- as.factor(data$species)\n",
    "    sp.data <- subset(data, select=-c(species, treatment_odor, sex, dead, length_mm))\n",
    "    sp.species <- subset(data, select=c(animal_ID, species))\n",
    "    rownames(sp.data) <- sp.data$animal_ID\n",
    "    sp.data <- subset(sp.data, select=-c(animal_ID))\n",
    "    rownames(sp.species) <- sp.species$animal_ID\n",
    "    sp.species <- subset(sp.species, select=-c(animal_ID))\n",
    "    sp.data.tra<-decostand(sp.data, method='standardize', margin='column', plot=F)\n",
    "    sp.dist <- vegdist(sp.data.tra,\"euclidean\")\n",
    "    sp.bdp <- betadisper(sp.dist, sp.species$species)\n",
    "    an <- anova(sp.bdp)\n",
    "    p <- c(p, an[1, 5])\n",
    "    f <- c(f, an[1, 4])\n",
    "    t <- c(t, paste(c('BDP', pair), collapse=', '))\n",
    "}\n",
    "\n",
    "# remove placeholder values and print out p values\n",
    "p <- p[-1]; \n",
    "t <- t[-1];\n",
    "f <- f[-1];\n",
    "\n",
    "# cat(\"Number of tests ran:\", length(p))\n",
    "p <- p.adjust(p, method=method_n)\n",
    "d <- data.frame(t, p, f)\n",
    "print(d)"
   ]
  },
  {
   "cell_type": "code",
   "execution_count": null,
   "metadata": {},
   "outputs": [],
   "source": [
    "# Test pairwise code for just one pair\n",
    "pair <- c('Anopheles gambiae', 'Culex quinquefasciatus')\n",
    "\n",
    "data <- read.csv('./trajectories/cleaned_animal_analyses_acclimation.csv')\n",
    "data <- subset(data, species == pair[1] | species == pair[2])\n",
    "data$species <- as.factor(data$species)\n",
    "sp.data <- subset(data, select=-c(species, treatment_odor, sex, dead, length_mm))\n",
    "sp.species <- subset(data, select=c(animal_ID, species))\n",
    "rownames(sp.data) <- sp.data$animal_ID\n",
    "sp.data <- subset(sp.data, select=-c(animal_ID))\n",
    "rownames(sp.species) <- sp.species$animal_ID\n",
    "sp.species <- subset(sp.species, select=-c(animal_ID))\n",
    "sp.data.tra<-decostand(sp.data, method='standardize', margin='column', plot=F)\n",
    "perm <- adonis(sp.data.tra~species, data=sp.species, \n",
    "               permutations=100, method='euclidean')\n",
    "PM_p <- perm[[1]][1,6]\n",
    "PM_f <- perm[[1]][1,4]\n",
    "\n",
    "sp.dist <- vegdist(sp.data.tra,\"euclidean\")\n",
    "sp.bdp <- betadisper(sp.dist, sp.species$species)\n",
    "an <- anova(sp.bdp)\n",
    "\n",
    "BDP_p <- an[1, 5]\n",
    "BDP_f <- an[1, 4]\n",
    "\n",
    "# Print everything \n",
    "perm[[1]]\n",
    "PM_p\n",
    "PM_f\n",
    "an\n",
    "BDP_p\n",
    "BDP_f"
   ]
  },
  {
   "cell_type": "code",
   "execution_count": null,
   "metadata": {},
   "outputs": [],
   "source": []
  }
 ],
 "metadata": {
  "kernelspec": {
   "display_name": "R",
   "language": "R",
   "name": "ir"
  },
  "language_info": {
   "codemirror_mode": "r",
   "file_extension": ".r",
   "mimetype": "text/x-r-source",
   "name": "R",
   "pygments_lexer": "r",
   "version": "3.6.0"
  }
 },
 "nbformat": 4,
 "nbformat_minor": 2
}
