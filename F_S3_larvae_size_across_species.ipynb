{
 "cells": [
  {
   "cell_type": "code",
   "execution_count": 1,
   "metadata": {},
   "outputs": [],
   "source": [
    "import pandas as pd\n",
    "import matplotlib\n",
    "matplotlib.rcParams['pdf.fonttype'] = 42\n",
    "matplotlib.rcParams['ps.fonttype'] = 42\n",
    "import matplotlib.pyplot as plt\n",
    "import matplotlib.backends.backend_pdf as pdf\n",
    "import numpy as np\n",
    "import colors as EL\n",
    "\n",
    "%matplotlib inline"
   ]
  },
  {
   "cell_type": "code",
   "execution_count": 2,
   "metadata": {},
   "outputs": [
    {
     "name": "stdout",
     "output_type": "stream",
     "text": [
      "['Aedes aegypti' 'Aedes albopictus' 'Anopheles arabiensis'\n",
      " 'Anopheles gambiae' 'Culex quinquefasciatus' 'Culex tarsalis']\n"
     ]
    }
   ],
   "source": [
    "df = pd.read_csv(\"./data/experiment_IDs/cleaned_static_data.csv\")\n",
    "print(df.species.unique())"
   ]
  },
  {
   "cell_type": "code",
   "execution_count": 3,
   "metadata": {},
   "outputs": [
    {
     "name": "stdout",
     "output_type": "stream",
     "text": [
      "6.8 3.2\n"
     ]
    }
   ],
   "source": [
    "aegypti = df[df['species'] == 'Aedes aegypti']\n",
    "albopictus = df[df['species'] == 'Aedes albopictus']\n",
    "arabiensis = df[df['species'] == 'Anopheles arabiensis']\n",
    "gambiae = df[df['species'] == 'Anopheles gambiae']\n",
    "quinque = df[df['species'] == 'Culex quinquefasciatus']\n",
    "tarsalis = df[df['species'] == 'Culex tarsalis']\n",
    "\n",
    "print(df['larvae_length_mm'].max(), df['larvae_length_mm'].min())"
   ]
  },
  {
   "cell_type": "code",
   "execution_count": 4,
   "metadata": {},
   "outputs": [
    {
     "name": "stdout",
     "output_type": "stream",
     "text": [
      "0 mean: 5.3342857142857145\n",
      "1 mean: 5.026760563380281\n",
      "2 mean: 4.531182795698924\n",
      "3 mean: 4.558333333333334\n",
      "4 mean: 4.954545454545454\n",
      "5 mean: 4.543396226415094\n"
     ]
    },
    {
     "data": {
      "image/png": "[encoded data removed]",
      "text/plain": [
       "<Figure size 504x252 with 1 Axes>"
      ]
     },
     "metadata": {
      "needs_background": "light"
     },
     "output_type": "display_data"
    }
   ],
   "source": [
    "fig = plt.figure(figsize=(14/2, 7/2))\n",
    "ax1 = fig.add_subplot(111, facecolor=\"None\")\n",
    "\n",
    "data = [aegypti[\"larvae_length_mm\"].values, \n",
    "        albopictus[\"larvae_length_mm\"].values, \n",
    "        arabiensis[\"larvae_length_mm\"].values, \n",
    "        gambiae[\"larvae_length_mm\"].values,\n",
    "        quinque[\"larvae_length_mm\"].values,\n",
    "        tarsalis[\"larvae_length_mm\"].values,\n",
    "       ]\n",
    "\n",
    "jitter = [np.random.normal(scale=0.1, size=len(aegypti)), \n",
    "          np.random.normal(scale=0.1, size=len(albopictus)),\n",
    "          np.random.normal(scale=0.1, size=len(arabiensis)), \n",
    "          np.random.normal(scale=0.1, size=len(gambiae)),\n",
    "          np.random.normal(scale=0.1, size=len(quinque)),\n",
    "          np.random.normal(scale=0.1, size=len(tarsalis))\n",
    "         ]\n",
    "\n",
    "parts = ax1.violinplot(data, showmeans=False, showmedians=False, showextrema=False)\n",
    "colors = [EL.aegypti, EL.albopictus, EL.arabiensis, \n",
    "          EL.coluzzii, EL.culex_q, EL.culex_t]\n",
    "\n",
    "for i, pc in enumerate(parts['bodies']):\n",
    "    pc.set_facecolor(colors[i])\n",
    "    pc.set_alpha(0.25)\n",
    "\n",
    "for i, (j, d) in enumerate(zip(jitter, data)):\n",
    "    j = [x+i+1 for x in j]\n",
    "    ax1.scatter(j, d, alpha=0.75, color=colors[i], zorder=5, s=10, marker='o')\n",
    "    \n",
    "ax1.set_ylim(3, 7)\n",
    "ax1.spines['right'].set_visible(False)\n",
    "ax1.spines['top'].set_visible(False)\n",
    "ax1.spines['bottom'].set_visible(False)\n",
    "ax1.set_xticks(np.arange(1, 7, 1))\n",
    "ax1.set_xticklabels([\"Aedes\\naegypti\", \"Aedes\\nalbopictus\", \n",
    "                     \"Anopheles\\narabiensis\", \"Anopheles\\ncoluzzii\", \n",
    "                     \"Culex\\nquinquefasciatus\", \"Culex\\ntarsalis\"])\n",
    "ax1.xaxis.set_ticks_position('none') \n",
    "ax1.set_yticks(np.arange(3, 8, 1))\n",
    "ax1.set_yticks(np.arange(3, 7, 0.5), minor=True)\n",
    "ax1.set_ylabel(\"Larvae body length (mm)\")\n",
    "\n",
    "ch = 0.1\n",
    "for i, datum in enumerate(data):\n",
    "    ax1.plot([i+1-ch, i+1+ch], [np.mean(datum)]*2, color=\"k\", \n",
    "             alpha=1, lw=2, zorder=20)\n",
    "    print(str(i), 'mean:', np.mean(datum))\n",
    "    \n",
    "savename = './figures/S3_sizes.pdf'\n",
    "\n",
    "# Remove padding and margins from the figure and all its subplots\n",
    "plt.show()\n",
    "\n",
    "# Save the Matplotlib figure as a PDF file:\n",
    "plt.show()\n",
    "pp = pdf.PdfPages(savename, keep_empty=False)\n",
    "pp.savefig(fig)\n",
    "pp.close()"
   ]
  },
  {
   "cell_type": "code",
   "execution_count": 5,
   "metadata": {
    "scrolled": false
   },
   "outputs": [
    {
     "name": "stdout",
     "output_type": "stream",
     "text": [
      "Total number of animals: 67\n",
      "Total n= 24 : Dead n= 0 : Percentage = 0.0 % for 100ul_milliQ_water Aedes aegypti\n",
      "Total n= 26 : Dead n= 1 : Percentage = 3.8461538461538463 % for 100ul_quinine Aedes aegypti\n",
      "Total n= 22 : Dead n= 1 : Percentage = 4.545454545454546 % for 05_percent_food Aedes aegypti\n",
      "---\n",
      "Total number of animals: 70\n",
      "Total n= 24 : Dead n= 1 : Percentage = 4.166666666666667 % for 100ul_milliQ_water Aedes albopictus\n",
      "Total n= 30 : Dead n= 4 : Percentage = 13.333333333333334 % for 100ul_quinine Aedes albopictus\n",
      "Total n= 24 : Dead n= 2 : Percentage = 8.333333333333334 % for 05_percent_food Aedes albopictus\n",
      "---\n",
      "Total number of animals: 93\n",
      "Total n= 42 : Dead n= 13 : Percentage = 30.952380952380953 % for 100ul_milliQ_water Anopheles arabiensis\n",
      "Total n= 52 : Dead n= 16 : Percentage = 30.76923076923077 % for 100ul_quinine Anopheles arabiensis\n",
      "Total n= 49 : Dead n= 21 : Percentage = 42.857142857142854 % for 05_percent_food Anopheles arabiensis\n",
      "---\n",
      "Total number of animals: 108\n",
      "Total n= 39 : Dead n= 1 : Percentage = 2.5641025641025643 % for 100ul_milliQ_water Anopheles gambiae\n",
      "Total n= 38 : Dead n= 1 : Percentage = 2.6315789473684212 % for 100ul_quinine Anopheles gambiae\n",
      "Total n= 36 : Dead n= 3 : Percentage = 8.333333333333334 % for 05_percent_food Anopheles gambiae\n",
      "---\n",
      "Total number of animals: 110\n",
      "Total n= 40 : Dead n= 3 : Percentage = 7.5 % for 100ul_milliQ_water Culex quinquefasciatus\n",
      "Total n= 50 : Dead n= 10 : Percentage = 20.0 % for 100ul_quinine Culex quinquefasciatus\n",
      "Total n= 42 : Dead n= 9 : Percentage = 21.428571428571427 % for 05_percent_food Culex quinquefasciatus\n",
      "---\n",
      "Total number of animals: 53\n",
      "Total n= 26 : Dead n= 8 : Percentage = 30.76923076923077 % for 100ul_milliQ_water Culex tarsalis\n",
      "Total n= 26 : Dead n= 11 : Percentage = 42.30769230769231 % for 100ul_quinine Culex tarsalis\n",
      "Total n= 32 : Dead n= 12 : Percentage = 37.5 % for 05_percent_food Culex tarsalis\n",
      "---\n"
     ]
    }
   ],
   "source": [
    "# READ IN CLEANED DATASET\n",
    "df = pd.read_csv(\"./data/experiment_IDs/static_data.csv\")\n",
    "experiments = df[\"treatment_odor\"].unique()\n",
    "species = ['Aedes aegypti', 'Aedes albopictus', \n",
    "           'Anopheles arabiensis', 'Anopheles gambiae', \n",
    "           'Culex quinquefasciatus', 'Culex tarsalis']\n",
    "pers = []\n",
    "\n",
    "for specie in species: \n",
    "    temp = df[df['species'] == specie]\n",
    "    temp = temp[temp['dead']=='no']\n",
    "    print('Total number of animals:', len(temp))\n",
    "    for experiment in experiments:\n",
    "        temp = df[df[\"treatment_odor\"] == experiment]\n",
    "        temp = temp[temp['species'] == specie]\n",
    "        temp2 = temp[temp['dead']=='yes']\n",
    "        if len(temp) == 0:\n",
    "            per = 0\n",
    "        else: \n",
    "            per = 100*len(temp2)/len(temp)\n",
    "        pers.append(per)\n",
    "        print('Total n=', str(len(temp)), \n",
    "              ': Dead n=', str(len(temp2)), \n",
    "              ': Percentage =', str(per),\n",
    "              '% for', experiment, specie)\n",
    "    print('---')"
   ]
  },
  {
   "cell_type": "code",
   "execution_count": 6,
   "metadata": {},
   "outputs": [
    {
     "data": {
      "image/png": "[encoded data removed]",
      "text/plain": [
       "<Figure size 504x252 with 1 Axes>"
      ]
     },
     "metadata": {
      "needs_background": "light"
     },
     "output_type": "display_data"
    }
   ],
   "source": [
    "fig = plt.figure(figsize=(14/2, 7/2))\n",
    "ax1 = fig.add_subplot(111, facecolor=\"None\")\n",
    "colors = [EL.aegypti]*3 + [EL.albopictus]*3 + [EL.arabiensis]*3 + \\\n",
    "            [EL.coluzzii]*3 + [EL.culex_q]*3 + [EL.culex_t]*3\n",
    "labs = ['Water', 'Quinine', 'Food']*6\n",
    "\n",
    "ax1.bar(x=np.arange(0, len(pers)), height=pers, color=colors)\n",
    "ax1.set_ylim(0, 100)\n",
    "ax1.set_ylabel('Mortality (% dead animals)')\n",
    "ax1.set_xticks(np.arange(0, len(pers)))\n",
    "ax1.set_xticklabels(labs, rotation=90, ha=\"right\")\n",
    "    \n",
    "ax1.spines['right'].set_visible(False)\n",
    "ax1.spines['top'].set_visible(False)\n",
    "\n",
    "colors = [EL.aegypti, EL.albopictus, EL.arabiensis, \n",
    "          EL.coluzzii, EL.culex_q, EL.culex_t]\n",
    "sps = [\"Aedes\\naegypti\", \"Aedes\\nalbopictus\", \n",
    "                     \"Anopheles\\narabiensis\", \"Anopheles\\ncoluzzii\", \n",
    "                     \"Culex\\nquinquefasciatus\", \"Culex\\ntarsalis\"]\n",
    "for i, (c, s) in enumerate(zip(colors, sps)):\n",
    "    ax1.text(i*3+1.5-0.5, 100, s, size=9, color=c, ha='center', va='top')\n",
    "\n",
    "savename = './figures/S3_mortality.pdf'\n",
    "\n",
    "# Save the Matplotlib figure as a PDF file:\n",
    "plt.show()\n",
    "pp = pdf.PdfPages(savename, keep_empty=False)\n",
    "pp.savefig(fig)\n",
    "pp.close()"
   ]
  },
  {
   "cell_type": "code",
   "execution_count": null,
   "metadata": {},
   "outputs": [],
   "source": []
  }
 ],
 "metadata": {
  "kernelspec": {
   "display_name": "Python 3",
   "language": "python",
   "name": "python3"
  },
  "language_info": {
   "codemirror_mode": {
    "name": "ipython",
    "version": 3
   },
   "file_extension": ".py",
   "mimetype": "text/x-python",
   "name": "python",
   "nbconvert_exporter": "python",
   "pygments_lexer": "ipython3",
   "version": "3.7.3"
  }
 },
 "nbformat": 4,
 "nbformat_minor": 2
}
